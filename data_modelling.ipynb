{
 "cells": [
  {
   "cell_type": "markdown",
   "metadata": {},
   "source": [
    "# Predictive Modelling\n",
    "Using several classifcation algorithms, let's create some baseline models, perform some feature engineering and hyperparameter tuning to create the most effecting predictive model."
   ]
  },
  {
   "cell_type": "code",
   "execution_count": 2,
   "metadata": {},
   "outputs": [],
   "source": [
    "import pandas as pd\n",
    "import numpy as np"
   ]
  },
  {
   "cell_type": "code",
   "execution_count": 3,
   "metadata": {},
   "outputs": [],
   "source": [
    "data = pd.read_csv('df_clean.csv')"
   ]
  },
  {
   "cell_type": "code",
   "execution_count": 4,
   "metadata": {},
   "outputs": [
    {
     "data": {
      "text/html": [
       "<div>\n",
       "<style scoped>\n",
       "    .dataframe tbody tr th:only-of-type {\n",
       "        vertical-align: middle;\n",
       "    }\n",
       "\n",
       "    .dataframe tbody tr th {\n",
       "        vertical-align: top;\n",
       "    }\n",
       "\n",
       "    .dataframe thead th {\n",
       "        text-align: right;\n",
       "    }\n",
       "</style>\n",
       "<table border=\"1\" class=\"dataframe\">\n",
       "  <thead>\n",
       "    <tr style=\"text-align: right;\">\n",
       "      <th></th>\n",
       "      <th>A1</th>\n",
       "      <th>A2</th>\n",
       "      <th>A3</th>\n",
       "      <th>A8</th>\n",
       "      <th>A9</th>\n",
       "      <th>A10</th>\n",
       "      <th>A11</th>\n",
       "      <th>A12</th>\n",
       "      <th>A14</th>\n",
       "      <th>A15</th>\n",
       "      <th>...</th>\n",
       "      <th>A7_h</th>\n",
       "      <th>A7_j</th>\n",
       "      <th>A7_n</th>\n",
       "      <th>A7_o</th>\n",
       "      <th>A7_v</th>\n",
       "      <th>A7_z</th>\n",
       "      <th>A13_g</th>\n",
       "      <th>A13_p</th>\n",
       "      <th>A13_s</th>\n",
       "      <th>target</th>\n",
       "    </tr>\n",
       "  </thead>\n",
       "  <tbody>\n",
       "    <tr>\n",
       "      <th>0</th>\n",
       "      <td>0.661</td>\n",
       "      <td>0.002</td>\n",
       "      <td>-0.957</td>\n",
       "      <td>-0.291</td>\n",
       "      <td>0.955</td>\n",
       "      <td>1.157</td>\n",
       "      <td>-0.288</td>\n",
       "      <td>-0.919</td>\n",
       "      <td>0.107</td>\n",
       "      <td>-0.195</td>\n",
       "      <td>...</td>\n",
       "      <td>-0.5</td>\n",
       "      <td>-0.108</td>\n",
       "      <td>-0.076</td>\n",
       "      <td>-0.054</td>\n",
       "      <td>0.831</td>\n",
       "      <td>-0.108</td>\n",
       "      <td>0.322</td>\n",
       "      <td>-0.108</td>\n",
       "      <td>-0.300</td>\n",
       "      <td>1</td>\n",
       "    </tr>\n",
       "    <tr>\n",
       "      <th>1</th>\n",
       "      <td>-1.512</td>\n",
       "      <td>1.228</td>\n",
       "      <td>-0.060</td>\n",
       "      <td>0.244</td>\n",
       "      <td>0.955</td>\n",
       "      <td>1.157</td>\n",
       "      <td>0.741</td>\n",
       "      <td>-0.919</td>\n",
       "      <td>-0.817</td>\n",
       "      <td>-0.088</td>\n",
       "      <td>...</td>\n",
       "      <td>2.0</td>\n",
       "      <td>-0.108</td>\n",
       "      <td>-0.076</td>\n",
       "      <td>-0.054</td>\n",
       "      <td>-1.203</td>\n",
       "      <td>-0.108</td>\n",
       "      <td>0.322</td>\n",
       "      <td>-0.108</td>\n",
       "      <td>-0.300</td>\n",
       "      <td>1</td>\n",
       "    </tr>\n",
       "    <tr>\n",
       "      <th>2</th>\n",
       "      <td>-1.512</td>\n",
       "      <td>0.002</td>\n",
       "      <td>-0.856</td>\n",
       "      <td>-0.216</td>\n",
       "      <td>0.955</td>\n",
       "      <td>-0.864</td>\n",
       "      <td>-0.494</td>\n",
       "      <td>-0.919</td>\n",
       "      <td>0.560</td>\n",
       "      <td>-0.037</td>\n",
       "      <td>...</td>\n",
       "      <td>2.0</td>\n",
       "      <td>-0.108</td>\n",
       "      <td>-0.076</td>\n",
       "      <td>-0.054</td>\n",
       "      <td>-1.203</td>\n",
       "      <td>-0.108</td>\n",
       "      <td>0.322</td>\n",
       "      <td>-0.108</td>\n",
       "      <td>-0.300</td>\n",
       "      <td>1</td>\n",
       "    </tr>\n",
       "    <tr>\n",
       "      <th>3</th>\n",
       "      <td>0.661</td>\n",
       "      <td>0.002</td>\n",
       "      <td>-0.647</td>\n",
       "      <td>0.457</td>\n",
       "      <td>0.955</td>\n",
       "      <td>1.157</td>\n",
       "      <td>0.535</td>\n",
       "      <td>1.088</td>\n",
       "      <td>-0.486</td>\n",
       "      <td>-0.195</td>\n",
       "      <td>...</td>\n",
       "      <td>-0.5</td>\n",
       "      <td>-0.108</td>\n",
       "      <td>-0.076</td>\n",
       "      <td>-0.054</td>\n",
       "      <td>0.831</td>\n",
       "      <td>-0.108</td>\n",
       "      <td>0.322</td>\n",
       "      <td>-0.108</td>\n",
       "      <td>-0.300</td>\n",
       "      <td>1</td>\n",
       "    </tr>\n",
       "    <tr>\n",
       "      <th>4</th>\n",
       "      <td>0.661</td>\n",
       "      <td>-1.224</td>\n",
       "      <td>0.174</td>\n",
       "      <td>-0.154</td>\n",
       "      <td>0.955</td>\n",
       "      <td>-0.864</td>\n",
       "      <td>-0.494</td>\n",
       "      <td>-0.919</td>\n",
       "      <td>-0.369</td>\n",
       "      <td>-0.195</td>\n",
       "      <td>...</td>\n",
       "      <td>-0.5</td>\n",
       "      <td>-0.108</td>\n",
       "      <td>-0.076</td>\n",
       "      <td>-0.054</td>\n",
       "      <td>0.831</td>\n",
       "      <td>-0.108</td>\n",
       "      <td>-3.101</td>\n",
       "      <td>-0.108</td>\n",
       "      <td>3.332</td>\n",
       "      <td>1</td>\n",
       "    </tr>\n",
       "  </tbody>\n",
       "</table>\n",
       "<p>5 rows × 40 columns</p>\n",
       "</div>"
      ],
      "text/plain": [
       "      A1     A2     A3     A8     A9    A10    A11    A12    A14    A15  ...  \\\n",
       "0  0.661  0.002 -0.957 -0.291  0.955  1.157 -0.288 -0.919  0.107 -0.195  ...   \n",
       "1 -1.512  1.228 -0.060  0.244  0.955  1.157  0.741 -0.919 -0.817 -0.088  ...   \n",
       "2 -1.512  0.002 -0.856 -0.216  0.955 -0.864 -0.494 -0.919  0.560 -0.037  ...   \n",
       "3  0.661  0.002 -0.647  0.457  0.955  1.157  0.535  1.088 -0.486 -0.195  ...   \n",
       "4  0.661 -1.224  0.174 -0.154  0.955 -0.864 -0.494 -0.919 -0.369 -0.195  ...   \n",
       "\n",
       "   A7_h   A7_j   A7_n   A7_o   A7_v   A7_z  A13_g  A13_p  A13_s  target  \n",
       "0  -0.5 -0.108 -0.076 -0.054  0.831 -0.108  0.322 -0.108 -0.300       1  \n",
       "1   2.0 -0.108 -0.076 -0.054 -1.203 -0.108  0.322 -0.108 -0.300       1  \n",
       "2   2.0 -0.108 -0.076 -0.054 -1.203 -0.108  0.322 -0.108 -0.300       1  \n",
       "3  -0.5 -0.108 -0.076 -0.054  0.831 -0.108  0.322 -0.108 -0.300       1  \n",
       "4  -0.5 -0.108 -0.076 -0.054  0.831 -0.108 -3.101 -0.108  3.332       1  \n",
       "\n",
       "[5 rows x 40 columns]"
      ]
     },
     "execution_count": 4,
     "metadata": {},
     "output_type": "execute_result"
    }
   ],
   "source": [
    "data.head()"
   ]
  },
  {
   "cell_type": "markdown",
   "metadata": {},
   "source": [
    "## Baseline Models\n",
    "Baseline models used are:\n",
    "- Gaussian and Bernoulli Naive Bayes\n",
    "- Decision Tree\n",
    "- Random Forest\n",
    "- K Neighbours Classifier\n",
    "- Logistic Regression"
   ]
  },
  {
   "cell_type": "markdown",
   "metadata": {},
   "source": [
    "### Gaussian Naive Bayes"
   ]
  },
  {
   "cell_type": "code",
   "execution_count": 6,
   "metadata": {},
   "outputs": [],
   "source": [
    "from sklearn import metrics\n",
    "from sklearn.model_selection import train_test_split\n",
    "from sklearn.naive_bayes import GaussianNB"
   ]
  },
  {
   "cell_type": "code",
   "execution_count": 33,
   "metadata": {},
   "outputs": [
    {
     "name": "stdout",
     "output_type": "stream",
     "text": [
      "Gaussian Naive Bayes accuracy score: 0.667\n"
     ]
    }
   ],
   "source": [
    "X = data.drop(columns = 'target')\n",
    "y = data.target.values\n",
    "X_train, X_test, y_train, y_test = train_test_split(X, y, test_size = 0.3, random_state = 0)\n",
    "\n",
    "gnb = GaussianNB()\n",
    "\n",
    "y_pred = gnb.fit(X_train, y_train).predict(X_test)\n",
    "\n",
    "print(f'Gaussian Naive Bayes accuracy score: ' + str(round(metrics.accuracy_score(y_test, y_pred), 3)))"
   ]
  },
  {
   "cell_type": "markdown",
   "metadata": {},
   "source": [
    "### Bernoulli Naive  Bayes"
   ]
  },
  {
   "cell_type": "code",
   "execution_count": 31,
   "metadata": {},
   "outputs": [],
   "source": [
    "from sklearn.naive_bayes import BernoulliNB"
   ]
  },
  {
   "cell_type": "code",
   "execution_count": 36,
   "metadata": {},
   "outputs": [
    {
     "name": "stdout",
     "output_type": "stream",
     "text": [
      "Bernoulli Naive Bayes accuracy score: 0.816\n"
     ]
    }
   ],
   "source": [
    "bernoulli = BernoulliNB()\n",
    "\n",
    "y_pred = bernoulli.fit(X_train, y_train).predict(X_test)\n",
    "\n",
    "print('Bernoulli Naive Bayes accuracy score: ' + str(round(metrics.accuracy_score(y_test, y_pred), 3)))"
   ]
  },
  {
   "cell_type": "markdown",
   "metadata": {},
   "source": [
    "Assuming that the Bernoulli Naive Bayes algorithm works better in this instance, due to the one hot encoding that was performed in the data preprocessing stage, where Gaussian Naive Bayes assumes a normal distribution, and the Bernoulli algorithm penalizes the non-presence of the categorical features created."
   ]
  },
  {
   "cell_type": "markdown",
   "metadata": {},
   "source": [
    "### Decision Tree Classifier\n",
    "Using the default values including using the Gini coefficient as a measure for purity, and containing a minimum of 2 features when splitting on leaf nodes."
   ]
  },
  {
   "cell_type": "code",
   "execution_count": 42,
   "metadata": {},
   "outputs": [],
   "source": [
    "from sklearn.tree import DecisionTreeClassifier"
   ]
  },
  {
   "cell_type": "code",
   "execution_count": 43,
   "metadata": {},
   "outputs": [
    {
     "name": "stdout",
     "output_type": "stream",
     "text": [
      "Decision Tree accuracy score: 0.744\n"
     ]
    }
   ],
   "source": [
    "dt_clf = DecisionTreeClassifier()\n",
    "\n",
    "y_pred = dt_clf.fit(X_train, y_train).predict(X_test)\n",
    "\n",
    "print('Decision Tree accuracy score: ' + str(round(metrics.accuracy_score(y_test, y_pred), 3)))"
   ]
  },
  {
   "cell_type": "markdown",
   "metadata": {},
   "source": [
    "The Decision Tree Algorithm might do better with out the extensive encoding and normalisation that was performed in the data preprocessing stage."
   ]
  },
  {
   "cell_type": "markdown",
   "metadata": {},
   "source": [
    "### Random Forest Classifier\n",
    "Using bagging, subspace sampling and a Decision Tree forest"
   ]
  },
  {
   "cell_type": "code",
   "execution_count": 45,
   "metadata": {},
   "outputs": [],
   "source": [
    "from sklearn.ensemble import RandomForestClassifier"
   ]
  },
  {
   "cell_type": "code",
   "execution_count": 46,
   "metadata": {},
   "outputs": [
    {
     "name": "stdout",
     "output_type": "stream",
     "text": [
      "Random Forest accuracy score: 0.836\n"
     ]
    }
   ],
   "source": [
    "random_forest = RandomForestClassifier()\n",
    "\n",
    "y_pred = random_forest.fit(X_train, y_train).predict(X_test)\n",
    "\n",
    "print('Random Forest accuracy score: ' + str(round(metrics.accuracy_score(y_test, y_pred), 3)))"
   ]
  },
  {
   "cell_type": "markdown",
   "metadata": {},
   "source": [
    "### K Neighbours Classifier\n",
    "\n",
    "With default values, 5 nearest neighbours measuered by the Minkowski distance without weighting."
   ]
  },
  {
   "cell_type": "code",
   "execution_count": 53,
   "metadata": {},
   "outputs": [],
   "source": [
    "from sklearn.neighbors import KNeighborsClassifier"
   ]
  },
  {
   "cell_type": "code",
   "execution_count": 54,
   "metadata": {},
   "outputs": [
    {
     "name": "stdout",
     "output_type": "stream",
     "text": [
      "3 Nearest Neighbors accuracy score: 0.783\n"
     ]
    }
   ],
   "source": [
    "knn = KNeighborsClassifier()\n",
    "\n",
    "y_pred = knn.fit(X_train, y_train).predict(X_test)\n",
    "\n",
    "print('K Neighbors Classifier accuracy score: ' + str(round(metrics.accuracy_score(y_test, y_pred), 3)))"
   ]
  },
  {
   "cell_type": "code",
   "execution_count": null,
   "metadata": {},
   "outputs": [],
   "source": []
  }
 ],
 "metadata": {
  "kernelspec": {
   "display_name": "Python 3",
   "language": "python",
   "name": "python3"
  },
  "language_info": {
   "codemirror_mode": {
    "name": "ipython",
    "version": 3
   },
   "file_extension": ".py",
   "mimetype": "text/x-python",
   "name": "python",
   "nbconvert_exporter": "python",
   "pygments_lexer": "ipython3",
   "version": "3.9.1"
  }
 },
 "nbformat": 4,
 "nbformat_minor": 4
}
